{
 "cells": [
  {
   "cell_type": "code",
   "execution_count": 1,
   "metadata": {},
   "outputs": [],
   "source": [
    "def divide_elementos_de_lista(lista,divisor):\n",
    "\t\"\"\"\n",
    "\tCada elemento de una lista es dividida por un divisor definido.\n",
    "\tEn caso de error de tipo ZeroDivisionError que significa error al dividir en cero la funcion devuelve la lista inicial.\n",
    "\tDentro del bloque Try se utiliza una comprensión de lista para crear una nueva lista que tenga los resultados de dividir\n",
    "\tcada elemento de la lista justamente por el divisor que nosotros ubicamos.\n",
    "\t\"\"\"\n",
    "\ttry:\n",
    "\t\treturn [i / divisor for i in lista]\n",
    "\texcept ZeroDivisionError as e:\n",
    "\t\tprint(e)\n",
    "\t\treturn lista\n"
   ]
  },
  {
   "cell_type": "code",
   "execution_count": 2,
   "metadata": {},
   "outputs": [
    {
     "name": "stdout",
     "output_type": "stream",
     "text": [
      "division by zero\n",
      "[0, 1, 2, 3, 4, 5, 6, 7, 8, 9]\n"
     ]
    }
   ],
   "source": [
    "lista = list(range(10))\n",
    "divisor = 0\n",
    "print(divide_elementos_de_lista(lista,divisor))"
   ]
  },
  {
   "cell_type": "code",
   "execution_count": 3,
   "metadata": {},
   "outputs": [],
   "source": [
    "def dividir(num1,num2):\n",
    "\ttry:\n",
    "\t\tresultado = num1 / num2\n",
    "\t\treturn resultado\n",
    "\texcept ZeroDivisionError:\n",
    "\t\tprint(\"No se puede dividir por cero.\")\n",
    "\t\treturn None\n",
    "\n"
   ]
  },
  {
   "cell_type": "code",
   "execution_count": 4,
   "metadata": {},
   "outputs": [
    {
     "name": "stdout",
     "output_type": "stream",
     "text": [
      "No se puede dividir por cero.\n"
     ]
    }
   ],
   "source": [
    "dividir(18,0)"
   ]
  },
  {
   "cell_type": "markdown",
   "metadata": {},
   "source": [
    "APLICAR EAFP (es más fácil pedir perdón que permiso) - CONTROL DE FLUJOS ?"
   ]
  },
  {
   "cell_type": "code",
   "execution_count": 5,
   "metadata": {},
   "outputs": [
    {
     "name": "stdout",
     "output_type": "stream",
     "text": [
      "El archivo no existe\n"
     ]
    }
   ],
   "source": [
    "try:\n",
    "\twith open('archivo.txt','r') as f:\n",
    "\t\tcontenido = f.read()\n",
    "except FileNotFoundError:\n",
    "\tprint('El archivo no existe')"
   ]
  },
  {
   "cell_type": "code",
   "execution_count": 6,
   "metadata": {},
   "outputs": [
    {
     "name": "stdout",
     "output_type": "stream",
     "text": [
      "La clave no existe en el diccionario\n"
     ]
    }
   ],
   "source": [
    "paises = {\"Mexico\":\"MX\",\"Estados Unidos\":\"US\", \"Canada\":\"CA\"}\n",
    "\n",
    "try:\n",
    "\tcodigo = paises[\"Argentina\"]\n",
    "except KeyError:\n",
    "\tprint(\"La clave no existe en el diccionario\")"
   ]
  }
 ],
 "metadata": {
  "kernelspec": {
   "display_name": "Python 3",
   "language": "python",
   "name": "python3"
  },
  "language_info": {
   "codemirror_mode": {
    "name": "ipython",
    "version": 3
   },
   "file_extension": ".py",
   "mimetype": "text/x-python",
   "name": "python",
   "nbconvert_exporter": "python",
   "pygments_lexer": "ipython3",
   "version": "3.11.5"
  }
 },
 "nbformat": 4,
 "nbformat_minor": 2
}
