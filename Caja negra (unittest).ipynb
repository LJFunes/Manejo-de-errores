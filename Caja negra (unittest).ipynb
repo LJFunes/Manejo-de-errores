{
 "cells": [
  {
   "cell_type": "markdown",
   "metadata": {},
   "source": [
    "CAJA NEGRA"
   ]
  },
  {
   "cell_type": "code",
   "execution_count": 10,
   "metadata": {},
   "outputs": [],
   "source": [
    "import unittest\n",
    "\n",
    "def suma(num_1, num_2):\n",
    "\treturn num_1 + num_2\n",
    "\n",
    "class CajaNegraTest(unittest.TestCase):\n",
    "\tdef test_suma_dos_positivos(self):\n",
    "\t\tnum_1 = 10\n",
    "\t\tnum_2 = 5\n",
    "\t\tresultado = suma(num_1, num_2)\n",
    "\t\tself.assertEqual(resultado, 15)\n",
    "\tdef test_suma_dos_negativos(self):\n",
    "\t\tnum_1 = -10\n",
    "\t\tnum_2 = -7\n",
    "\t\tresultado = suma(num_1, num_2)\n",
    "\t\tself.assertEqual(resultado, -17)\n",
    "\n"
   ]
  },
  {
   "cell_type": "code",
   "execution_count": 11,
   "metadata": {},
   "outputs": [
    {
     "name": "stderr",
     "output_type": "stream",
     "text": [
      "test_suma_dos_negativos (__main__.CajaNegraTest.test_suma_dos_negativos) ... ok\n",
      "test_suma_dos_positivos (__main__.CajaNegraTest.test_suma_dos_positivos) ... ok\n",
      "\n",
      "----------------------------------------------------------------------\n",
      "Ran 2 tests in 0.002s\n",
      "\n",
      "OK\n"
     ]
    },
    {
     "data": {
      "text/plain": [
       "<unittest.main.TestProgram at 0x2556564aed0>"
      ]
     },
     "execution_count": 11,
     "metadata": {},
     "output_type": "execute_result"
    }
   ],
   "source": [
    "unittest.main(argv=[\"\"], verbosity=2, exit=False)"
   ]
  },
  {
   "cell_type": "markdown",
   "metadata": {},
   "source": [
    "**EN TEORÍA ACA SE USA CAJA DE CRISTAL (pero es igual que caja negra)**"
   ]
  },
  {
   "cell_type": "code",
   "execution_count": 19,
   "metadata": {},
   "outputs": [
    {
     "name": "stderr",
     "output_type": "stream",
     "text": [
      "test_suma_dos_negativos (__main__.CajaNegraTest.test_suma_dos_negativos) ... ok\n",
      "test_suma_dos_positivos (__main__.CajaNegraTest.test_suma_dos_positivos) ... ok\n",
      "test_es_mayor_de_edad (__main__.PruebaDeCristalTest.test_es_mayor_de_edad) ... ok\n",
      "test_es_menor_de_edad (__main__.PruebaDeCristalTest.test_es_menor_de_edad) ... ok\n",
      "\n",
      "----------------------------------------------------------------------\n",
      "Ran 4 tests in 0.002s\n",
      "\n",
      "OK\n"
     ]
    },
    {
     "data": {
      "text/plain": [
       "<unittest.main.TestProgram at 0x255656a24d0>"
      ]
     },
     "execution_count": 19,
     "metadata": {},
     "output_type": "execute_result"
    }
   ],
   "source": [
    "import unittest\n",
    "\n",
    "def es_mayor_de_edad(edad):\n",
    "\tif edad >= 18:\n",
    "\t\treturn True\n",
    "\telse:\n",
    "\t\treturn False\n",
    "\n",
    "class PruebaDeCristalTest(unittest.TestCase):\n",
    "\tdef test_es_mayor_de_edad(self):\n",
    "\t\tedad = 20\n",
    "\t\tresultado = es_mayor_de_edad(20)\n",
    "\t\tself.assertEqual(resultado, True)\n",
    "\tdef test_es_menor_de_edad(self):\n",
    "\t\tedad = 15\n",
    "\t\tresultado = es_mayor_de_edad(edad)\n",
    "\t\tself.assertEqual(resultado, False)\n",
    "\n",
    "unittest.main(argv=[\"\"], verbosity=2, exit=False)  # como ya lo usé arriba, ahora me ejecutará también verificando los errores de arriba"
   ]
  }
 ],
 "metadata": {
  "kernelspec": {
   "display_name": "Python 3",
   "language": "python",
   "name": "python3"
  },
  "language_info": {
   "codemirror_mode": {
    "name": "ipython",
    "version": 3
   },
   "file_extension": ".py",
   "mimetype": "text/x-python",
   "name": "python",
   "nbconvert_exporter": "python",
   "pygments_lexer": "ipython3",
   "version": "3.11.5"
  }
 },
 "nbformat": 4,
 "nbformat_minor": 2
}
