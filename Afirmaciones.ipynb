{
 "cells": [
  {
   "cell_type": "code",
   "execution_count": 8,
   "metadata": {},
   "outputs": [],
   "source": [
    "def primera_letra(lista_de_palabras):\n",
    "\tprimeras_letras = []\n",
    "\tfor palabra in lista_de_palabras:\n",
    "\t\tassert type(palabra) == str, f'{palabra} no es str'\n",
    "\t\tassert len(palabra) > 0, \"No se permiten str vacios\"\n",
    "\t\tprimeras_letras.append(palabra[0])\n",
    "\treturn primeras_letras\n",
    "\n"
   ]
  },
  {
   "cell_type": "code",
   "execution_count": 9,
   "metadata": {},
   "outputs": [
    {
     "ename": "AssertionError",
     "evalue": "42 no es str",
     "output_type": "error",
     "traceback": [
      "\u001b[1;31m---------------------------------------------------------------------------\u001b[0m",
      "\u001b[1;31mAssertionError\u001b[0m                            Traceback (most recent call last)",
      "\u001b[1;32mc:\\Users\\Intel\\Desktop\\Manejo de errores\\Afirmaciones.ipynb Celda 2\u001b[0m line \u001b[0;36m2\n\u001b[0;32m      <a href='vscode-notebook-cell:/c%3A/Users/Intel/Desktop/Manejo%20de%20errores/Afirmaciones.ipynb#W1sZmlsZQ%3D%3D?line=0'>1</a>\u001b[0m palabras \u001b[39m=\u001b[39m [\u001b[39m\"\u001b[39m\u001b[39mhola\u001b[39m\u001b[39m\"\u001b[39m,\u001b[39m\"\u001b[39m\u001b[39mmundo\u001b[39m\u001b[39m\"\u001b[39m,\u001b[39m42\u001b[39m]\n\u001b[1;32m----> <a href='vscode-notebook-cell:/c%3A/Users/Intel/Desktop/Manejo%20de%20errores/Afirmaciones.ipynb#W1sZmlsZQ%3D%3D?line=1'>2</a>\u001b[0m primera_letra(palabras)\n",
      "\u001b[1;32mc:\\Users\\Intel\\Desktop\\Manejo de errores\\Afirmaciones.ipynb Celda 2\u001b[0m line \u001b[0;36m4\n\u001b[0;32m      <a href='vscode-notebook-cell:/c%3A/Users/Intel/Desktop/Manejo%20de%20errores/Afirmaciones.ipynb#W1sZmlsZQ%3D%3D?line=1'>2</a>\u001b[0m primeras_letras \u001b[39m=\u001b[39m []\n\u001b[0;32m      <a href='vscode-notebook-cell:/c%3A/Users/Intel/Desktop/Manejo%20de%20errores/Afirmaciones.ipynb#W1sZmlsZQ%3D%3D?line=2'>3</a>\u001b[0m \u001b[39mfor\u001b[39;00m palabra \u001b[39min\u001b[39;00m lista_de_palabras:\n\u001b[1;32m----> <a href='vscode-notebook-cell:/c%3A/Users/Intel/Desktop/Manejo%20de%20errores/Afirmaciones.ipynb#W1sZmlsZQ%3D%3D?line=3'>4</a>\u001b[0m \t\u001b[39massert\u001b[39;00m \u001b[39mtype\u001b[39m(palabra) \u001b[39m==\u001b[39m \u001b[39mstr\u001b[39m, \u001b[39mf\u001b[39m\u001b[39m'\u001b[39m\u001b[39m{\u001b[39;00mpalabra\u001b[39m}\u001b[39;00m\u001b[39m no es str\u001b[39m\u001b[39m'\u001b[39m\n\u001b[0;32m      <a href='vscode-notebook-cell:/c%3A/Users/Intel/Desktop/Manejo%20de%20errores/Afirmaciones.ipynb#W1sZmlsZQ%3D%3D?line=4'>5</a>\u001b[0m \t\u001b[39massert\u001b[39;00m \u001b[39mlen\u001b[39m(palabra) \u001b[39m>\u001b[39m \u001b[39m0\u001b[39m, \u001b[39m\"\u001b[39m\u001b[39mNo se permiten str vacios\u001b[39m\u001b[39m\"\u001b[39m\n\u001b[0;32m      <a href='vscode-notebook-cell:/c%3A/Users/Intel/Desktop/Manejo%20de%20errores/Afirmaciones.ipynb#W1sZmlsZQ%3D%3D?line=5'>6</a>\u001b[0m \tprimeras_letras\u001b[39m.\u001b[39mappend(palabra[\u001b[39m0\u001b[39m])\n",
      "\u001b[1;31mAssertionError\u001b[0m: 42 no es str"
     ]
    }
   ],
   "source": [
    "palabras = [\"hola\",\"mundo\",42]\n",
    "primera_letra(palabras)"
   ]
  }
 ],
 "metadata": {
  "kernelspec": {
   "display_name": "Python 3",
   "language": "python",
   "name": "python3"
  },
  "language_info": {
   "codemirror_mode": {
    "name": "ipython",
    "version": 3
   },
   "file_extension": ".py",
   "mimetype": "text/x-python",
   "name": "python",
   "nbconvert_exporter": "python",
   "pygments_lexer": "ipython3",
   "version": "3.11.5"
  }
 },
 "nbformat": 4,
 "nbformat_minor": 2
}
